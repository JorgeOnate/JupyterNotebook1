{
 "cells": [
  {
   "cell_type": "markdown",
   "id": "5c1b0f0f-830c-499c-bf6c-6457b9aa5792",
   "metadata": {},
   "source": [
    "<h1>My Jupyter Notebook on IBM Watson Studio (not really)</h1>"
   ]
  },
  {
   "cell_type": "markdown",
   "id": "7cdcc081-1cfc-4543-939d-36d6c038f66c",
   "metadata": {},
   "source": [
    "<b>Jorge Oñate</b> - Engineering student"
   ]
  },
  {
   "cell_type": "markdown",
   "id": "90b56daf-2269-4473-85f0-971f1a961510",
   "metadata": {},
   "source": [
    "<i>I am intereseted in data science because its something that is not only very important today, its also a great tool for engineers to develop, personnaly im really interestewd in machine learning and \n",
    "deep learning as well.</i>"
   ]
  },
  {
   "cell_type": "markdown",
   "id": "69aadc7d-6f7b-4ecd-9647-4b5acfd8220e",
   "metadata": {},
   "source": [
    "<h3>The code will do a simple addition of two different numbers.</h3>"
   ]
  },
  {
   "cell_type": "code",
   "execution_count": 3,
   "id": "59a31a6a-a64a-4f52-b4fa-f7bdc6bcfd66",
   "metadata": {},
   "outputs": [],
   "source": [
    "def simpleAddition(a,b):\n",
    "    return a + b"
   ]
  },
  {
   "cell_type": "code",
   "execution_count": 4,
   "id": "3a3b80f5-acf9-44d0-bd3d-abf73090114c",
   "metadata": {},
   "outputs": [
    {
     "data": {
      "text/plain": [
       "9"
      ]
     },
     "execution_count": 4,
     "metadata": {},
     "output_type": "execute_result"
    }
   ],
   "source": [
    "simpleAddition(4,5)"
   ]
  },
  {
   "cell_type": "markdown",
   "id": "cfa2812f-8f3b-4d8f-bc29-478b791408a2",
   "metadata": {},
   "source": [
    "## This is a simple H2 (header)"
   ]
  },
  {
   "cell_type": "markdown",
   "id": "c58a7d78-affa-48a3-9bd1-035bb59bfd4e",
   "metadata": {},
   "source": [
    "[Simple link that takes you to Google](https://www.google.com)"
   ]
  },
  {
   "cell_type": "markdown",
   "id": "e481ba11-67d2-4a61-968a-4e3b8841c50a",
   "metadata": {},
   "source": [
    "\n",
    "> Blockquotes are very handy in email to emulate reply text.\n",
    "> This line is part of the same quote.\n"
   ]
  },
  {
   "cell_type": "markdown",
   "id": "fac05b7e-5b0f-4703-ac8e-acba7d0a3636",
   "metadata": {},
   "source": [
    "| Tables        | Are           | Cool  |\n",
    "| ------------- |:-------------:| -----:|\n",
    "| 1             | right-aligned | $5    |\n",
    "| 2             | centered      |   $12 |\n",
    "| 3             | are neat      |    $1 |"
   ]
  },
  {
   "cell_type": "code",
   "execution_count": null,
   "id": "a66f8290-099b-4677-8bd8-c7b984b41c9e",
   "metadata": {},
   "outputs": [],
   "source": []
  }
 ],
 "metadata": {
  "kernelspec": {
   "display_name": "Python 3",
   "language": "python",
   "name": "python3"
  },
  "language_info": {
   "codemirror_mode": {
    "name": "ipython",
    "version": 3
   },
   "file_extension": ".py",
   "mimetype": "text/x-python",
   "name": "python",
   "nbconvert_exporter": "python",
   "pygments_lexer": "ipython3",
   "version": "3.7.8"
  }
 },
 "nbformat": 4,
 "nbformat_minor": 5
}
